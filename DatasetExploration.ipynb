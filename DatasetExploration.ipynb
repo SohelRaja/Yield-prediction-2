{
  "nbformat": 4,
  "nbformat_minor": 0,
  "metadata": {
    "colab": {
      "name": "DatasetExploration.ipynb",
      "version": "0.3.2",
      "provenance": [],
      "collapsed_sections": [],
      "include_colab_link": true
    },
    "kernelspec": {
      "name": "python3",
      "display_name": "Python 3"
    }
  },
  "cells": [
    {
      "cell_type": "markdown",
      "metadata": {
        "id": "view-in-github",
        "colab_type": "text"
      },
      "source": [
        "<a href=\"https://colab.research.google.com/github/arghac14/Yield-prediction-2/blob/master/DatasetExploration.ipynb\" target=\"_parent\"><img src=\"https://colab.research.google.com/assets/colab-badge.svg\" alt=\"Open In Colab\"/></a>"
      ]
    },
    {
      "cell_type": "code",
      "metadata": {
        "id": "H-YyDIQRFKgM",
        "colab_type": "code",
        "colab": {}
      },
      "source": [
        "import numpy as np\n",
        "import pandas as pd"
      ],
      "execution_count": 0,
      "outputs": []
    },
    {
      "cell_type": "code",
      "metadata": {
        "id": "joEtmOz2FUDv",
        "colab_type": "code",
        "outputId": "d51499c4-744c-497e-cc5f-2e7be0833cea",
        "colab": {
          "base_uri": "https://localhost:8080/",
          "height": 607
        }
      },
      "source": [
        "data={\n",
        "    'District':['Darjeeling','Jalpaiguri','Koch Bihar','Uttar Dinajpur','Dakshin Dinajpur','Maldah','Murshidabad','Nadia','Birbhum','Bardhaman','Bankura','Purulia','Hugli','Haora','North 24 Parganas','South 24 Parganas','Kolkata','Medinipur'],\n",
        "    'Rainfall':[174.9025,195.2306,177.3472,128.3008,124.4917,114.9917,117.4706,120.3923,115.0348,118.0904,117.6115,109.8540,128.4050,133.5379,134.0477,116.9631,132.1458,130.8080],\n",
        "    'Temperature(avg)':[17.5,26.3,27.5,26.2,26.6,30.4,28.2,29.3,30.6,32.3,31.6,31.7,30.5,30.6,31.2,27.1,31.6,30.75],\n",
        "    'Humidity':[92,94,96,72,74,87,83,84,71,77,71,85,76,69,68,79,66,76],\n",
        "\n",
        "}\n",
        "df=pd.DataFrame(data)\n",
        "df"
      ],
      "execution_count": 11,
      "outputs": [
        {
          "output_type": "execute_result",
          "data": {
            "text/html": [
              "<div>\n",
              "<style scoped>\n",
              "    .dataframe tbody tr th:only-of-type {\n",
              "        vertical-align: middle;\n",
              "    }\n",
              "\n",
              "    .dataframe tbody tr th {\n",
              "        vertical-align: top;\n",
              "    }\n",
              "\n",
              "    .dataframe thead th {\n",
              "        text-align: right;\n",
              "    }\n",
              "</style>\n",
              "<table border=\"1\" class=\"dataframe\">\n",
              "  <thead>\n",
              "    <tr style=\"text-align: right;\">\n",
              "      <th></th>\n",
              "      <th>District</th>\n",
              "      <th>Rainfall</th>\n",
              "      <th>Temperature(avg)</th>\n",
              "      <th>Humidity</th>\n",
              "    </tr>\n",
              "  </thead>\n",
              "  <tbody>\n",
              "    <tr>\n",
              "      <th>0</th>\n",
              "      <td>Darjeeling</td>\n",
              "      <td>174.9025</td>\n",
              "      <td>17.50</td>\n",
              "      <td>92</td>\n",
              "    </tr>\n",
              "    <tr>\n",
              "      <th>1</th>\n",
              "      <td>Jalpaiguri</td>\n",
              "      <td>195.2306</td>\n",
              "      <td>26.30</td>\n",
              "      <td>94</td>\n",
              "    </tr>\n",
              "    <tr>\n",
              "      <th>2</th>\n",
              "      <td>Koch Bihar</td>\n",
              "      <td>177.3472</td>\n",
              "      <td>27.50</td>\n",
              "      <td>96</td>\n",
              "    </tr>\n",
              "    <tr>\n",
              "      <th>3</th>\n",
              "      <td>Uttar Dinajpur</td>\n",
              "      <td>128.3008</td>\n",
              "      <td>26.20</td>\n",
              "      <td>72</td>\n",
              "    </tr>\n",
              "    <tr>\n",
              "      <th>4</th>\n",
              "      <td>Dakshin Dinajpur</td>\n",
              "      <td>124.4917</td>\n",
              "      <td>26.60</td>\n",
              "      <td>74</td>\n",
              "    </tr>\n",
              "    <tr>\n",
              "      <th>5</th>\n",
              "      <td>Maldah</td>\n",
              "      <td>114.9917</td>\n",
              "      <td>30.40</td>\n",
              "      <td>87</td>\n",
              "    </tr>\n",
              "    <tr>\n",
              "      <th>6</th>\n",
              "      <td>Murshidabad</td>\n",
              "      <td>117.4706</td>\n",
              "      <td>28.20</td>\n",
              "      <td>83</td>\n",
              "    </tr>\n",
              "    <tr>\n",
              "      <th>7</th>\n",
              "      <td>Nadia</td>\n",
              "      <td>120.3923</td>\n",
              "      <td>29.30</td>\n",
              "      <td>84</td>\n",
              "    </tr>\n",
              "    <tr>\n",
              "      <th>8</th>\n",
              "      <td>Birbhum</td>\n",
              "      <td>115.0348</td>\n",
              "      <td>30.60</td>\n",
              "      <td>71</td>\n",
              "    </tr>\n",
              "    <tr>\n",
              "      <th>9</th>\n",
              "      <td>Bardhaman</td>\n",
              "      <td>118.0904</td>\n",
              "      <td>32.30</td>\n",
              "      <td>77</td>\n",
              "    </tr>\n",
              "    <tr>\n",
              "      <th>10</th>\n",
              "      <td>Bankura</td>\n",
              "      <td>117.6115</td>\n",
              "      <td>31.60</td>\n",
              "      <td>71</td>\n",
              "    </tr>\n",
              "    <tr>\n",
              "      <th>11</th>\n",
              "      <td>Purulia</td>\n",
              "      <td>109.8540</td>\n",
              "      <td>31.70</td>\n",
              "      <td>85</td>\n",
              "    </tr>\n",
              "    <tr>\n",
              "      <th>12</th>\n",
              "      <td>Hugli</td>\n",
              "      <td>128.4050</td>\n",
              "      <td>30.50</td>\n",
              "      <td>76</td>\n",
              "    </tr>\n",
              "    <tr>\n",
              "      <th>13</th>\n",
              "      <td>Haora</td>\n",
              "      <td>133.5379</td>\n",
              "      <td>30.60</td>\n",
              "      <td>69</td>\n",
              "    </tr>\n",
              "    <tr>\n",
              "      <th>14</th>\n",
              "      <td>North 24 Parganas</td>\n",
              "      <td>134.0477</td>\n",
              "      <td>31.20</td>\n",
              "      <td>68</td>\n",
              "    </tr>\n",
              "    <tr>\n",
              "      <th>15</th>\n",
              "      <td>South 24 Parganas</td>\n",
              "      <td>116.9631</td>\n",
              "      <td>27.10</td>\n",
              "      <td>79</td>\n",
              "    </tr>\n",
              "    <tr>\n",
              "      <th>16</th>\n",
              "      <td>Kolkata</td>\n",
              "      <td>132.1458</td>\n",
              "      <td>31.60</td>\n",
              "      <td>66</td>\n",
              "    </tr>\n",
              "    <tr>\n",
              "      <th>17</th>\n",
              "      <td>Medinipur</td>\n",
              "      <td>130.8080</td>\n",
              "      <td>30.75</td>\n",
              "      <td>76</td>\n",
              "    </tr>\n",
              "  </tbody>\n",
              "</table>\n",
              "</div>"
            ],
            "text/plain": [
              "             District  Rainfall  Temperature(avg)  Humidity\n",
              "0          Darjeeling  174.9025             17.50        92\n",
              "1          Jalpaiguri  195.2306             26.30        94\n",
              "2          Koch Bihar  177.3472             27.50        96\n",
              "3      Uttar Dinajpur  128.3008             26.20        72\n",
              "4    Dakshin Dinajpur  124.4917             26.60        74\n",
              "5              Maldah  114.9917             30.40        87\n",
              "6         Murshidabad  117.4706             28.20        83\n",
              "7               Nadia  120.3923             29.30        84\n",
              "8             Birbhum  115.0348             30.60        71\n",
              "9           Bardhaman  118.0904             32.30        77\n",
              "10            Bankura  117.6115             31.60        71\n",
              "11            Purulia  109.8540             31.70        85\n",
              "12              Hugli  128.4050             30.50        76\n",
              "13              Haora  133.5379             30.60        69\n",
              "14  North 24 Parganas  134.0477             31.20        68\n",
              "15  South 24 Parganas  116.9631             27.10        79\n",
              "16            Kolkata  132.1458             31.60        66\n",
              "17          Medinipur  130.8080             30.75        76"
            ]
          },
          "metadata": {
            "tags": []
          },
          "execution_count": 11
        }
      ]
    },
    {
      "cell_type": "code",
      "metadata": {
        "id": "AG5BASsL2jvD",
        "colab_type": "code",
        "colab": {
          "base_uri": "https://localhost:8080/",
          "height": 34
        },
        "outputId": "9c026ca1-5aff-47e2-8711-1cfb0c9ae2da"
      },
      "source": [
        "l=[92,94,96,72,74,87,83,84,71,77,71,85,76,69,68,66,67,79,66,76]\n",
        "len(l)"
      ],
      "execution_count": 10,
      "outputs": [
        {
          "output_type": "execute_result",
          "data": {
            "text/plain": [
              "20"
            ]
          },
          "metadata": {
            "tags": []
          },
          "execution_count": 10
        }
      ]
    }
  ]
}